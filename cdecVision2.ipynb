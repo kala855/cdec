{
 "cells": [
  {
   "cell_type": "markdown",
   "metadata": {},
   "source": [
    "# Manipulación de Imágenes\n",
    "\n",
    "El día de hoy vamos a realizar diversas modificaciones básicas pero bastante interesantes a un conjunto de imágenes, inicialmente vamos a cargar una imagen de disco y vamos a convertirla a escala de grises, posteriormente vamos a tomar una imagen __RGB__ y vamos a empezar a jugar con cada uno de los canales y ver que sucede.\n",
    "\n",
    "## Conversión a Escala de Grises\n",
    "\n",
    "Vamos ahora a tomar la siguiente imagen:\n",
    "\n",
    "<img src=\"./images/lena.jpg\" style=\"width: 400px\"/>\n",
    "\n",
    "La debemos convertir a escala de grises, esto puede hacerse de dos formas:\n",
    "\n",
    "* La primera forma de realizar este proceso es tomando píxel a píxel y multiplicarlo por unos factores. La fórmula es algo como lo siguiente:\n",
    "> $$ grayPíxel = 0.299R + 0.587G + 0.114B $$\n",
    "\n",
    "* La segunda forma se hace utilizando un comando de nuestra librería OpenCV que facilita el proceso. \n",
    "\n",
    "Vamos a ver ambas posibilidades, veamos la primera:"
   ]
  },
  {
   "cell_type": "code",
   "execution_count": null,
   "metadata": {
    "collapsed": false
   },
   "outputs": [],
   "source": [
    "%matplotlib inline\n",
    "import cv2\n",
    "from matplotlib import pyplot as plt\n",
    "import numpy as np\n",
    "img = cv2.imread('./images/lena.jpg')\n",
    "img = cv2.cvtColor(img, cv2.COLOR_BGR2RGB)\n",
    "filas = img.shape[0]\n",
    "columnas = img.shape[1]\n",
    "imgGray = np.zeros((filas,columnas))\n",
    "for i in range (0 ,filas):\n",
    "    for j in range (0, columnas):\n",
    "        imgGray[i,j] = img[i,j,:] [0] * 0.299 + img[i,j,:] [1] * 0.587 + img[i,j,:] [2] * 0.114\n",
    "cv2.imwrite('./images/imgOutGray.jpg',imgGray)\n",
    "img = cv2.imread('./images/imgOutGray.jpg')\n",
    "plt.imshow(img)\n",
    "plt.show()"
   ]
  },
  {
   "cell_type": "markdown",
   "metadata": {},
   "source": [
    "Ahora podemos ver nuestra imagen en escala de grises a continuación, o al menos así debería verse:\n",
    "\n",
    "<img src=\"./images/lenaGray.jpg\" style=\"width: 400px\"/>\n",
    "\n",
    "Como podemos ver el código parece a primera vista algo complejo, sin embargo vamos a intentar explicarlo poco a poco, miremos de nuevo nuestro código:\n",
    "\n",
    "```python\n",
    "import cv2\n",
    "from matplotlib import pyplot as plt\n",
    "import numpy as np\n",
    "img = cv2.imread('./images/lena.jpg')\n",
    "img = cv2.cvtColor(img, cv2.COLOR_BGR2RGB)\n",
    "filas = img.shape[0]\n",
    "columnas = img.shape[1]\n",
    "imgGray = np.zeros((filas,columnas))\n",
    "for i in range (0 ,filas):\n",
    "    for j in range (0, columnas):\n",
    "        imgGray[i,j] = img[i,j,:] [0] * 0.299 + img[i,j,:] [1] * 0.587 + img[i,j,:] [2] * 0.114\n",
    "cv2.imwrite('./images/imgOutGray.jpg',imgGray)\n",
    "img = cv2.imread('./images/imgOutGray.jpg')\n",
    "plt.imshow(img)\n",
    "plt.show()\n",
    "```\n",
    "\n",
    "Las primeras 5 líneas ya son conocidas, por ese motivo no las explicaremos de nuevo, sin embargo si existe alguna duda al respecto no dude en contactar a los instructores.\n",
    "\n",
    "```python\n",
    "filas = img.shape[0]\n",
    "columnas = img.shape[1]\n",
    "```\n",
    "\n",
    "Esta dos líneas nos permiten obtener la cantidad de filas y de columnas que contiene nuestra imagen, o lo que es lo mismo, el alto y el ancho en píxeles de nuestra imagen.\n",
    "\n",
    "```python\n",
    "imgGray = np.zeros((filas,columnas))\n",
    "```\n",
    "En esta línea estamos creando una nueva matriz que almacenara nuestra conversión a grises, note que en este caso solo necesitamos la cantidad de filas y columnas, como ya no tenemos canales __RGB__ no es necesario decir que nuestra imagen en cada píxel guardará 3 valores, ahora solo habrá un valor que irá entre 0 y 255 representando la escala de grises.\n",
    "\n",
    "```python\n",
    "for i in range (0 ,filas):\n",
    "    for j in range (0, columnas):\n",
    "        imgGray[i,j] = img[i,j,:] [0] * 0.299 + img[i,j,:] [1] * 0.587 + img[i,j,:] [2] * 0.114\n",
    "```\n",
    "Aquí es donde se encuentra la parte más complicada de nuestra conversión, en este caso lo que se está haciendo es recorrer la matriz de nuestra imagen y a cada valor que está allí guardado lo multiplicamos por un factor que nos permite establecer que tanto aporta cada canal a nuestro valor de gris.\n",
    "\n",
    "Veamos este proceso para un ejemplo de una imagen de $3*3$:\n",
    "\n",
    "1.Supongamos que nuestra imagen es la siguiente:\n",
    "\n",
    "<img src=\"./images/matrizRecorrido0.png\" style=\"width: 200px\"/>\n",
    "\n",
    "2.Veamos la primer parte de este código\n",
    "\n",
    "```python\n",
    "for i in range (0 ,filas):\n",
    "```\n",
    "Esta sentencia se conoce como bucle for, en este caso estamos creando un ciclo el cual le irá dando valores a la variable i desde 0 hasta la cantidad de filas que tenga nuestra imagen, para el ejemplo de la imagen la cantidad de filas sería 3. Veamos esto un poco más gráfico a continuación:    \n",
    "\n",
    "|i=0|<img src=\"./images/matrizRecorrido1.png\" style=\"width: 200px\"/>|\n",
    "|---|---------------------------------------------------------------|\n",
    "|i=1|<img src=\"./images/matrizRecorrido2.png\" style=\"width: 200px\"/>|\n",
    "|i=2|<img src=\"./images/matrizRecorrido3.png\" style=\"width: 200px\"/>|\n",
    "    \n",
    "Ahora como podemos ver cada vez que la i cambia de valor voy a apuntar a otra posición de la matriz tal y como se puede ver.\n",
    "\n",
    "3.El siguiente ciclo que podemos ver en el código:\n",
    "\n",
    "```python\n",
    "for j in range (0,columnas):\n",
    "```\n",
    "En este caso lo que sucede es que estaremos incrementado por columnas:\n",
    "\n",
    "|j=0|j=1|j=2|\n",
    "|---|---|---|\n",
    "|<img src=\"./images/matrizRecorrido4.png\" style=\"width: 200px\"/>|<img src=\"./images/matrizRecorrido5.png\" style=\"width: 200px\"/>|<img src=\"./images/matrizRecorrido6.png\" style=\"width: 200px\"/>|\n",
    "\n",
    "4.Ahora cuando unimos ambos ciclos:\n",
    "\n",
    "```python\n",
    "for i in range (0 ,filas):\n",
    "    for j in range (0, columnas):\n",
    "        imgGray[i,j] = img[i,j,:] [0] * 0.299 + img[i,j,:] [1] * 0.587 + img[i,j,:] [2] * 0.114\n",
    "```\n",
    "Lo que vamos a generar son todos los índices que nos van a permitir recorrer la imagen por completo, por ejemplo cuando i = 0 para el primer __for__, vamos a generar con el otro __for__ todos los valores de j, para el ejemplo corto irá desde 0 hasta 2 __(0,1,2)__. Ahora y una vez estamos posicionados en el píxel lo que hacemos es tomar el valor de rojo y multiplicarlo por el factor visto en la ecuación al principio, luego el verde y finalmente el azul.\n",
    "Cada resultado es guardado en una nueva matriz llamada imgGray.\n",
    "\n",
    "5.Posteriormente lo que hacemos es finalmente guardar la imagen y mostrarla.\n",
    "\n",
    "## Tarea:\n",
    "\n",
    "En la siguiente celda construir un código que lea la imagen __prueba3.jpg__ y la convierta a escala de grises, genere dos imágenes, una donde muestre la conversión de imágenes con los valores vistos anteriormente y otra donde cambie los valores que multiplican a cada canal.\n",
    "\n",
    "_Nota: Recuerde que la suma de los valores que están multiplicando a cada canal debe sumar 1.0_\n"
   ]
  },
  {
   "cell_type": "code",
   "execution_count": null,
   "metadata": {
    "collapsed": true
   },
   "outputs": [],
   "source": [
    "# Construya aquí su código, si tiene dudas recuerde preguntarle a los instructores"
   ]
  },
  {
   "cell_type": "markdown",
   "metadata": {},
   "source": [
    "La otra forma a través de la cual se puede realizar la conversión a escala de grises es mucho más simple, y se hace aprovechando la librería __OpenCV__, en este caso la conversión a escala de grises de la imagen sería algo como lo siguiente:"
   ]
  },
  {
   "cell_type": "code",
   "execution_count": null,
   "metadata": {
    "collapsed": false
   },
   "outputs": [],
   "source": [
    "img = cv2.imread('./images/lena.jpg')\n",
    "img = cv2.cvtColor(img, cv2.COLOR_BGR2GRAY)\n",
    "cv2.imwrite('./images/imgOutGray2.jpg',img)\n",
    "img2 = cv2.imread('./images/imgOutGray2.jpg')\n",
    "plt.imshow(img2)\n",
    "plt.show()"
   ]
  },
  {
   "cell_type": "markdown",
   "metadata": {},
   "source": [
    "En este último caso, aparece una instrucción previamente conocida, __cvtColor__, pero en este caso le pedimos que tome la imagen de disco y la lea en escala de grises. Este proceso es mucho más simple.\n",
    "## Ejercicio:\n",
    "Tome la misma imagen __prueba3.jpg__ y realice la conversión a grises pero ahora utilizando __cvtColor__. Realice el ejercicio en la siguiente celda. Recuerda preguntar cualquier duda que tengas."
   ]
  },
  {
   "cell_type": "code",
   "execution_count": null,
   "metadata": {
    "collapsed": true
   },
   "outputs": [],
   "source": []
  },
  {
   "cell_type": "markdown",
   "metadata": {},
   "source": [
    "## Borrado de Canales RGB\n",
    "\n",
    "Ahora vamos a jugar un poco con los canales __RGB__ que tienen las imágenes que estamos trabajando, volvamos al ejemplo de __lena.jpg__."
   ]
  },
  {
   "cell_type": "code",
   "execution_count": null,
   "metadata": {
    "collapsed": false
   },
   "outputs": [],
   "source": [
    "img = cv2.imread('./images/lena.jpg')\n",
    "img = cv2.cvtColor(img, cv2.COLOR_BGR2RGB)\n",
    "plt.imshow(img)\n",
    "plt.show()"
   ]
  },
  {
   "cell_type": "markdown",
   "metadata": {},
   "source": [
    "Una vez tenemos la imagen cargada en la variable __img__ vamos a quitar los canales __R__ y __G__."
   ]
  },
  {
   "cell_type": "code",
   "execution_count": null,
   "metadata": {
    "collapsed": false
   },
   "outputs": [],
   "source": [
    "img = cv2.imread('./images/lena.jpg')\n",
    "print(img[:,:,0].shape)\n",
    "img[:,:,0] = np.zeros(img[:,:,0].shape)\n",
    "img[:,:,1] = np.zeros(img[:,:,1].shape)\n",
    "plt.imshow(img)\n",
    "plt.show()"
   ]
  },
  {
   "cell_type": "markdown",
   "metadata": {},
   "source": [
    "Cómo podemos notar al dejar sólo el canal __B__ (_azul_), lo que pasará es que la imagen quedará en tonos de azules.\n",
    "\n",
    "## Ejercicio\n",
    "\n",
    "Realizar el mismo trabajo para dejar sólo habilitados el canal _rojo_ por un lado y el _verde_. Consultar con los instructores."
   ]
  },
  {
   "cell_type": "code",
   "execution_count": null,
   "metadata": {
    "collapsed": true
   },
   "outputs": [],
   "source": [
    "## Realizar el ejercicio en esta celda"
   ]
  }
 ],
 "metadata": {
  "kernelspec": {
   "display_name": "Python 2",
   "language": "python",
   "name": "python2"
  },
  "language_info": {
   "codemirror_mode": {
    "name": "ipython",
    "version": 2
   },
   "file_extension": ".py",
   "mimetype": "text/x-python",
   "name": "python",
   "nbconvert_exporter": "python",
   "pygments_lexer": "ipython2",
   "version": "2.7.6"
  }
 },
 "nbformat": 4,
 "nbformat_minor": 0
}
