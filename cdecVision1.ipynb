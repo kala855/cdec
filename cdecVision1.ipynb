{
 "cells": [
  {
   "cell_type": "markdown",
   "metadata": {
    "slideshow": {
     "slide_type": "slide"
    }
   },
   "source": [
    "# ¿Qué es Visión por computador ?\n",
    "\n",
    "La visión por computador es un campo científico que incluye métodos para capturar, procesar, analizar y comprender imágenes. Actualmente se busca emular computacionalmente la visión del ser humano, buscando obtener la mayor cantidad de información de una imagen.\n",
    "\n",
    "Por ejemplo, qué información podríamos obtener de la siguiente imagen ?\n",
    "\n",
    "<img src=\"./images/birdFrog.jpg\" style=\"width: 400px\"/>\n",
    "\n",
    "Aunque parece simple, podríamos decir cosas como lo siguiente:\n",
    "\n",
    "<img src=\"./images/birdFrogDetected.jpg\" style=\"width: 400px\"/>\n",
    "\n",
    "Este tipo de cosas pueden hacerse a través de sistemas de visión por computador complejos, en la actualidad es posible pasarle un conjunto de imágenes a algunos programas y estos nos retornan clasificación de objetos al interior de las figuras e incluso vídeos."
   ]
  }
 ],
 "metadata": {
  "kernelspec": {
   "display_name": "Python 2",
   "language": "python",
   "name": "python2"
  },
  "language_info": {
   "codemirror_mode": {
    "name": "ipython",
    "version": 2
   },
   "file_extension": ".py",
   "mimetype": "text/x-python",
   "name": "python",
   "nbconvert_exporter": "python",
   "pygments_lexer": "ipython2",
   "version": "2.7.6"
  }
 },
 "nbformat": 4,
 "nbformat_minor": 0
}
